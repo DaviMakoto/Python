{
  "nbformat": 4,
  "nbformat_minor": 0,
  "metadata": {
    "colab": {
      "name": "aula1.ipynb",
      "provenance": []
    },
    "kernelspec": {
      "name": "python3",
      "display_name": "Python 3"
    },
    "language_info": {
      "name": "python"
    }
  },
  "cells": [
    {
      "cell_type": "code",
      "execution_count": null,
      "metadata": {
        "colab": {
          "base_uri": "https://localhost:8080/"
        },
        "id": "kiU83-I_iWXO",
        "outputId": "002cb06b-1eeb-4e8f-ad37-e993f10c068b"
      },
      "outputs": [
        {
          "output_type": "stream",
          "name": "stdout",
          "text": [
            "Hello, World!\n"
          ]
        }
      ],
      "source": [
        "print('Hello, World!')"
      ]
    },
    {
      "cell_type": "code",
      "source": [
        "print('Aprendendo Python!')"
      ],
      "metadata": {
        "colab": {
          "base_uri": "https://localhost:8080/"
        },
        "id": "LxqAG8g2jbFv",
        "outputId": "4848d45a-84e6-4f1c-b9c5-235fed1aed71"
      },
      "execution_count": null,
      "outputs": [
        {
          "output_type": "stream",
          "name": "stdout",
          "text": [
            "Aprendendo Python!\n"
          ]
        }
      ]
    },
    {
      "cell_type": "code",
      "source": [
        "#string, int, float e bolean\n",
        "nota1 = 10\n",
        "_nota1 = 11\n",
        "A = 1\n",
        "a = 2\n",
        "print(A)\n",
        "print(a)\n",
        "print(_nota1)\n",
        "print(nota1)\n",
        "ação = '10'\n",
        "print(ação)\n",
        "jogar = True\n",
        "dançar = False\n",
        "print(dançar)"
      ],
      "metadata": {
        "colab": {
          "base_uri": "https://localhost:8080/"
        },
        "id": "L7jsC7I4j1Lo",
        "outputId": "21694821-1826-42f6-9ad9-575192e22962"
      },
      "execution_count": null,
      "outputs": [
        {
          "output_type": "stream",
          "name": "stdout",
          "text": [
            "1\n",
            "2\n",
            "11\n",
            "10\n",
            "10\n",
            "False\n"
          ]
        }
      ]
    },
    {
      "cell_type": "code",
      "source": [
        "a = 1\n",
        "b = 2.5\n",
        "equa = (a + b) * 3 / (a + 2)\n",
        "print(equa)"
      ],
      "metadata": {
        "colab": {
          "base_uri": "https://localhost:8080/"
        },
        "id": "2iKYG0cAkKIu",
        "outputId": "5545d644-ee83-4e91-dfde-ce5405fdba28"
      },
      "execution_count": null,
      "outputs": [
        {
          "output_type": "stream",
          "name": "stdout",
          "text": [
            "3.5\n"
          ]
        }
      ]
    },
    {
      "cell_type": "code",
      "source": [
        "type(equa)"
      ],
      "metadata": {
        "colab": {
          "base_uri": "https://localhost:8080/"
        },
        "id": "V264yuOvlJ2S",
        "outputId": "6e3cb6e0-bfcb-4e66-d6b5-22f6fdc7b01d"
      },
      "execution_count": null,
      "outputs": [
        {
          "output_type": "execute_result",
          "data": {
            "text/plain": [
              "float"
            ]
          },
          "metadata": {},
          "execution_count": 17
        }
      ]
    },
    {
      "cell_type": "code",
      "source": [
        "type(a)"
      ],
      "metadata": {
        "colab": {
          "base_uri": "https://localhost:8080/"
        },
        "id": "98boqz_vlqQ9",
        "outputId": "d09fa0d4-696e-41c2-ed71-2dfd574a01c9"
      },
      "execution_count": null,
      "outputs": [
        {
          "output_type": "execute_result",
          "data": {
            "text/plain": [
              "int"
            ]
          },
          "metadata": {},
          "execution_count": 18
        }
      ]
    },
    {
      "cell_type": "code",
      "source": [
        "type(dançar)"
      ],
      "metadata": {
        "colab": {
          "base_uri": "https://localhost:8080/"
        },
        "id": "qgdZBSQ1ltsf",
        "outputId": "a043963c-6593-4803-b333-d0ff234080a5"
      },
      "execution_count": null,
      "outputs": [
        {
          "output_type": "execute_result",
          "data": {
            "text/plain": [
              "bool"
            ]
          },
          "metadata": {},
          "execution_count": 19
        }
      ]
    },
    {
      "cell_type": "code",
      "source": [
        "type(ação)"
      ],
      "metadata": {
        "colab": {
          "base_uri": "https://localhost:8080/"
        },
        "id": "-5pPKLk-l1F4",
        "outputId": "58961a42-7aea-458f-b542-4e675ee1f556"
      },
      "execution_count": null,
      "outputs": [
        {
          "output_type": "execute_result",
          "data": {
            "text/plain": [
              "str"
            ]
          },
          "metadata": {},
          "execution_count": 20
        }
      ]
    },
    {
      "cell_type": "code",
      "source": [
        "txt = input('Digite um número ->')\n",
        "type(txt)"
      ],
      "metadata": {
        "id": "WJ2G-Wo_l4j6",
        "colab": {
          "base_uri": "https://localhost:8080/"
        },
        "outputId": "99c1c4ab-9014-422e-811a-9878fafe1341"
      },
      "execution_count": 26,
      "outputs": [
        {
          "name": "stdout",
          "output_type": "stream",
          "text": [
            "Digite um número ->50\n"
          ]
        },
        {
          "output_type": "execute_result",
          "data": {
            "text/plain": [
              "str"
            ]
          },
          "metadata": {},
          "execution_count": 26
        }
      ]
    },
    {
      "cell_type": "code",
      "source": [
        "#Converter valores \n",
        "X = int(txt)\n",
        "print(type(X))\n",
        "X = float(txt)\n",
        "print(type(X))\n",
        "X = str(txt)\n",
        "print(type(txt))"
      ],
      "metadata": {
        "id": "dyQ0LEFNmBck",
        "colab": {
          "base_uri": "https://localhost:8080/"
        },
        "outputId": "549c5870-21f7-4447-c76d-37725b9ef162"
      },
      "execution_count": 27,
      "outputs": [
        {
          "output_type": "stream",
          "name": "stdout",
          "text": [
            "<class 'int'>\n",
            "<class 'float'>\n",
            "<class 'str'>\n"
          ]
        }
      ]
    },
    {
      "cell_type": "code",
      "source": [
        "# Comentário\n",
        "'''\n",
        "    COMENTAR EM\n",
        "    Várias linhas\n",
        "'''"
      ],
      "metadata": {
        "id": "Szgd3uLMnbY6"
      },
      "execution_count": null,
      "outputs": []
    },
    {
      "cell_type": "code",
      "source": [
        ""
      ],
      "metadata": {
        "id": "-SBTfXmJnumq"
      },
      "execution_count": null,
      "outputs": []
    },
    {
      "cell_type": "markdown",
      "source": [
        "# Matemática Simples"
      ],
      "metadata": {
        "id": "zUTPoDNNn0nF"
      }
    },
    {
      "cell_type": "code",
      "source": [
        "# Exibir a area do quadrado\n",
        "'''\n",
        "  q = 1 x 1 // 1\n",
        "'''\n",
        "l = 12 #Criamos uma variável\n",
        "quadrado = l * l\n",
        "perimetrodoquadrado = l + l + l + l  #perimetrodoquadrado = l * 4\n",
        "print(quadrado)\n",
        "print(perimetrodoquadrado)"
      ],
      "metadata": {
        "colab": {
          "base_uri": "https://localhost:8080/"
        },
        "id": "7yw_Zc1nn7jf",
        "outputId": "52fcbf1b-e925-48bc-a7a9-63f07aa9e34d"
      },
      "execution_count": 34,
      "outputs": [
        {
          "output_type": "stream",
          "name": "stdout",
          "text": [
            "144\n",
            "48\n"
          ]
        }
      ]
    },
    {
      "cell_type": "code",
      "source": [
        "#O lado de um quadrado mede 8 cm, Caso o comprimento desse valor seja aumentada em 50% do seu valor,\n",
        "#em quantos por centos  aumenta a área do novo quadrado em relaçao a area do quadrado inicial\n",
        "\n",
        "l = 8\n",
        "area = l ** 2\n",
        "print('Primeira Area ',area)\n",
        "\n",
        "##\n",
        "x = 8\n",
        "l = x * 1.5 # = 12\n",
        "areaNova = l ** 2\n",
        "print('Segunda Area: ', areaNova)\n",
        "\n",
        "##DIferença de tamanho entre o primeiro e o sgundo\n",
        "diferença = (areaNova / area - 1) * 100\n",
        "print('Diferença é de ', diferença, '%')\n",
        "\n"
      ],
      "metadata": {
        "colab": {
          "base_uri": "https://localhost:8080/"
        },
        "id": "UwyTv7tFo1S5",
        "outputId": "4d7da833-c661-4771-8091-fbdcc73e3826"
      },
      "execution_count": 36,
      "outputs": [
        {
          "output_type": "stream",
          "name": "stdout",
          "text": [
            "Primeira Area  64\n",
            "Segunda Area:  144.0\n",
            "Diferença é de  125.0 %\n"
          ]
        }
      ]
    },
    {
      "cell_type": "code",
      "source": [
        "# QUal é a medida da diagonal de um quadrado cujo lado mede 8 cm?\n",
        "'''\n",
        "Formula\n",
        "  d² = l² + l²\n",
        "  d² = 2l² = 128\n",
        "  d = V(2l²) = V128\n",
        "  d = LV2 = ?\n",
        "'''\n",
        "l = 8\n",
        "diagonal = (2 * (8 ** 2)) # 2l²\n",
        "print(diagonal)"
      ],
      "metadata": {
        "colab": {
          "base_uri": "https://localhost:8080/"
        },
        "id": "DIjuQFuctSe8",
        "outputId": "ba323735-afce-43d8-bf3c-d0457d0640a7"
      },
      "execution_count": 39,
      "outputs": [
        {
          "output_type": "stream",
          "name": "stdout",
          "text": [
            "128\n"
          ]
        }
      ]
    },
    {
      "cell_type": "code",
      "source": [
        "# Qual é o diametro de um circulo cujo raio mede 10 cm?\n",
        "r = 10\n",
        "diametroCirculo = 2 * r\n",
        "print(diametroCirculo)"
      ],
      "metadata": {
        "colab": {
          "base_uri": "https://localhost:8080/"
        },
        "id": "1oCRn_0TuyWT",
        "outputId": "245e2165-03e4-400b-c78a-a445791e5777"
      },
      "execution_count": 40,
      "outputs": [
        {
          "output_type": "stream",
          "name": "stdout",
          "text": [
            "20\n"
          ]
        }
      ]
    },
    {
      "cell_type": "code",
      "source": [
        "# QUal o perímetro de um círculo cujo raio mede 5cm?\n"
      ],
      "metadata": {
        "id": "y64w8xYdxhtw"
      },
      "execution_count": null,
      "outputs": []
    },
    {
      "cell_type": "code",
      "source": [
        ""
      ],
      "metadata": {
        "id": "rDGk--MeyaMo"
      },
      "execution_count": null,
      "outputs": []
    },
    {
      "cell_type": "markdown",
      "source": [
        "# Estrutura de decisão"
      ],
      "metadata": {
        "id": "MDSNUKzZydQO"
      }
    },
    {
      "cell_type": "code",
      "source": [
        "# Exibir se o número pe maior ou menor que 10\n",
        "X = 20\n",
        "if(X > 10): # 50 é maior que 10? -> True\n",
        "  print('é maior que 10') # Executa se Verdadeira\n",
        "else: # Se for falsa\n",
        "  print('É menor que 10') # Executa"
      ],
      "metadata": {
        "colab": {
          "base_uri": "https://localhost:8080/"
        },
        "id": "6uyE4vgByf6c",
        "outputId": "6557d74e-493a-4280-9a81-0a23e0333c38"
      },
      "execution_count": 45,
      "outputs": [
        {
          "output_type": "stream",
          "name": "stdout",
          "text": [
            "é maior que 10\n"
          ]
        }
      ]
    },
    {
      "cell_type": "code",
      "source": [
        "# Exibir o maior número.\n",
        "x = 50\n",
        "y = 25\n",
        "if(x > y):\n",
        "  #Faça\n",
        "  print(x, ' é maior')\n",
        "else: #Senão\n",
        "  print(y, 'é maior')\n",
        "if(x < y):\n",
        "  #Faça\n",
        "  print(x, ' é menor')\n",
        "else: #Senão\n",
        "  print(y, 'é menor')\n"
      ],
      "metadata": {
        "colab": {
          "base_uri": "https://localhost:8080/"
        },
        "id": "SGMbAro9y4JC",
        "outputId": "95dddc71-6f46-4c6d-a1a5-849eacbf7dce"
      },
      "execution_count": 47,
      "outputs": [
        {
          "output_type": "stream",
          "name": "stdout",
          "text": [
            "50  é maior\n",
            "25 é menor\n"
          ]
        }
      ]
    },
    {
      "cell_type": "code",
      "source": [
        "# Exibir o maior número entre 3.\n",
        "a = 10\n",
        "b = 40\n",
        "c = -2\n",
        "# a > b && a > c\n",
        "if(a > b and a > c):\n",
        "  #faça\n",
        "  print(a)\n",
        "elif(b > a and b > c):\n",
        "  #faça\n",
        "  print(b)\n",
        "else:\n",
        "  print(c)"
      ],
      "metadata": {
        "colab": {
          "base_uri": "https://localhost:8080/"
        },
        "id": "rIxZ1oZZ0vHI",
        "outputId": "ea300a10-2a3e-4455-dfd9-a90f40bd804f"
      },
      "execution_count": 50,
      "outputs": [
        {
          "output_type": "stream",
          "name": "stdout",
          "text": [
            "-2\n"
          ]
        }
      ]
    },
    {
      "cell_type": "code",
      "source": [
        "# Leia duas notas e exiba se o aluno esta aprovado ou reprovado. Para ser provado precisa de media igual ou maior que?\n",
        "\n",
        "nota1 = 8\n",
        "nota2 = 6\n",
        "\n",
        "media = (nota1 + nota2) / 2\n",
        "\n",
        "if(media >= 7):\n",
        "  #faça\n",
        "  print('Aprovado, Média: ', media)\n",
        "else:\n",
        "  #faça\n",
        "  print('Reprovado, Média: ', media)"
      ],
      "metadata": {
        "colab": {
          "base_uri": "https://localhost:8080/"
        },
        "id": "3oy3HOyc1ySb",
        "outputId": "adabd205-9c0c-4d2a-f0f5-554eb076b8da"
      },
      "execution_count": 51,
      "outputs": [
        {
          "output_type": "stream",
          "name": "stdout",
          "text": [
            "Aprovado, Média:  7.0\n"
          ]
        }
      ]
    },
    {
      "cell_type": "code",
      "source": [
        "# Condições de existencia de um triangulo\n",
        "'''\n",
        "  a + b > c\n",
        "  b + c > a\n",
        "  a + c > b\n",
        "'''\n",
        "a = 3\n",
        "b = 8\n",
        "c = 7\n",
        "\n",
        "if((a + b > c) and (b + c > a) and (a + c > b)):\n",
        "  #faça\n",
        "  print('É um triangulo')\n",
        "else:\n",
        "  print('Não é um triangulo')"
      ],
      "metadata": {
        "colab": {
          "base_uri": "https://localhost:8080/"
        },
        "id": "SG6IO6AG3JbH",
        "outputId": "12c390b9-772d-48ca-cb15-9a40292007c1"
      },
      "execution_count": 55,
      "outputs": [
        {
          "output_type": "stream",
          "name": "stdout",
          "text": [
            "É um triangulo\n"
          ]
        }
      ]
    },
    {
      "cell_type": "code",
      "source": [
        "# Ler 3 notas e verificar se o aluno está aprovado (>= 7), em Recuperação (>4 e < 7) ou reprovado ( <= 4)\n",
        "nota1 = 10\n",
        "nota2 = 6.5\n",
        "nota3 = 9.5\n",
        "\n",
        "media = (nota1 + nota2 + nota3) / 3\n",
        "\n",
        "if(media >= 7):\n",
        "  #faça\n",
        "  print('APROVADO, Média', media)\n",
        "elif(media > 4 and media < 7):\n",
        "  print('RECUPERAÇÃO, Média; ', media)\n",
        "else:\n",
        "  print('REPROVADO, Média ', media)"
      ],
      "metadata": {
        "colab": {
          "base_uri": "https://localhost:8080/"
        },
        "id": "NVCC7tp14Ac_",
        "outputId": "40d25e92-aa6a-47e1-f4e0-4f1922dd5603"
      },
      "execution_count": 60,
      "outputs": [
        {
          "output_type": "stream",
          "name": "stdout",
          "text": [
            "APROVADO, Média 8.666666666666666\n"
          ]
        }
      ]
    },
    {
      "cell_type": "code",
      "source": [
        "# Calcule e exiba as métricas de IMC de uma Pessoa\n",
        "'''Fórmula\n",
        "    Abaixoo do peso Inferior a 18,5\n",
        "    Peso normal 18,5 e 24,9\n",
        "    Excesso de peso 25,0 a 29,9\n",
        "    Obeso 30 ou mais\n",
        "\n",
        "    imc = peso / altura²\n",
        "'''\n",
        "peso = 150\n",
        "altura = 175 / 100 # Converter de cm para metros\n",
        "\n",
        "imc = round((peso / altura ** 2), 2) # round(valor, 2)\n",
        "print(imc)\n",
        "\n",
        "if(imc < 18.5):\n",
        "  print('abaixo do peso, IMC: ', imc)\n",
        "\n",
        "elif(imc < 25):\n",
        "  print('Peso normal, IMC: ', imc)\n",
        "\n",
        "elif(imc < 30):\n",
        "  print('Acimado peso: IMC: ', imc)"
      ],
      "metadata": {
        "colab": {
          "base_uri": "https://localhost:8080/"
        },
        "id": "RBLaaoSP5Qed",
        "outputId": "1dadfc93-350b-4cca-e970-762fd04c178b"
      },
      "execution_count": 75,
      "outputs": [
        {
          "output_type": "stream",
          "name": "stdout",
          "text": [
            "48.98\n"
          ]
        }
      ]
    },
    {
      "cell_type": "code",
      "source": [
        "# Leia os lados de um triangulo e diga o nome do triangulo\n",
        "'''\n",
        "  Triângulo equilátero == 3 lados iguais\n",
        "  Triangulos isósceles == 2 lados iguais\n",
        "  Triangulo escaleno == 3 lados diferentes\n",
        "'''\n",
        "lado1\n",
        "lado2\n",
        "lado3"
      ],
      "metadata": {
        "id": "xdr5eMv86mv4"
      },
      "execution_count": 75,
      "outputs": []
    }
  ]
}