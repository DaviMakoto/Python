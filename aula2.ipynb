{
  "nbformat": 4,
  "nbformat_minor": 0,
  "metadata": {
    "colab": {
      "name": "aula2.ipynb",
      "provenance": [],
      "toc_visible": true
    },
    "kernelspec": {
      "name": "python3",
      "display_name": "Python 3"
    },
    "language_info": {
      "name": "python"
    }
  },
  "cells": [
    {
      "cell_type": "code",
      "execution_count": 4,
      "metadata": {
        "colab": {
          "base_uri": "https://localhost:8080/"
        },
        "id": "8WRf7NzLtVo3",
        "outputId": "b67873c7-a832-4916-b712-07ed3da008d4"
      },
      "outputs": [
        {
          "output_type": "stream",
          "name": "stdout",
          "text": [
            "Digite o seu sexo(M / F)M\n",
            "Sexo masculino\n"
          ]
        }
      ],
      "source": [
        "# Faça um programa que verifique (usando if ou else) se uma letra digitada é \"F\" ou \"M\"\n",
        "# Conforme a letra escrever: F - Feminino, M - Masculino, Sexo, inválido\n",
        "\n",
        "sexo = input('Digite o seu sexo(M / F)')\n",
        "if(sexo == 'm' or sexo == 'M'):\n",
        "  print('Sexo masculino')\n",
        "elif(sexo == 'f' or sexo == 'F'):\n",
        "  print('Sexo feminino')\n",
        "else:\n",
        "  print('Valor inválido')"
      ]
    },
    {
      "cell_type": "code",
      "source": [
        "# Faça um programa que verifique (usando if e else) se uma letra digitada é vogal ou consoante.\n",
        "\n",
        "letra = input('Digite uma letra: ').lower() ##letra minúscula\n",
        "vogal = 'a' or 'e' or 'i' or 'o' or 'u'\n",
        "\n",
        "if(letra == vogal):\n",
        "  print('Esta letra é uma vogal')\n",
        "else:\n",
        "  print('Esta letra é uma consoante')\n"
      ],
      "metadata": {
        "colab": {
          "base_uri": "https://localhost:8080/"
        },
        "id": "KmxHYYPRuME9",
        "outputId": "bfedda4a-8117-4243-c31c-6be547f8b3b2"
      },
      "execution_count": 9,
      "outputs": [
        {
          "output_type": "stream",
          "name": "stdout",
          "text": [
            "Digite uma letra: z\n",
            "Esta letra é uma consoante\n"
          ]
        }
      ]
    },
    {
      "cell_type": "code",
      "source": [
        "# Faça um programa que verifique (usando if e else) se uma letra digitada é\n",
        "# vogal ou consoante e se foi uma letra inválida.\n",
        "\n",
        "letra = input('Digite uma letra: ').lower()\n",
        "vogal = 'a' or 'e' or 'i' or 'o' or 'u'\n",
        "\n",
        "\n",
        "\n",
        "\n",
        "if(len(letra) == 1): #Se a quantidade de letras for igual a 1 faça\n",
        "  if(letra.isalpha()): ## é valor alfabético? = true / false\n",
        "    if(letra == 'a' or letra == 'e' or letra == 'i' or letra == 'o' or letra == 'u'):\n",
        "      print('É uma vogal')\n",
        "    else:\n",
        "        print('É consoante')\n",
        "  else:\n",
        "    print('Não é uma letra válida')\n",
        "else:\n",
        "  print('Não é um valor válido')\n"
      ],
      "metadata": {
        "colab": {
          "base_uri": "https://localhost:8080/"
        },
        "id": "qJD3WdxmvjYR",
        "outputId": "4e1e51d3-0a58-40cd-9752-169eed4c4909"
      },
      "execution_count": 12,
      "outputs": [
        {
          "output_type": "stream",
          "name": "stdout",
          "text": [
            "Digite uma letra: davi\n",
            "Nãoé um valor válido\n"
          ]
        }
      ]
    },
    {
      "cell_type": "code",
      "source": [
        "# leia um número e verificar se é um número.\n",
        "# apos verificar exibir seu antecessor, seu sucessor e se é par ou ímpar\n",
        "\n",
        "numero = input('Digite um número: ')\n",
        "if(numero.isnumeric()):\n",
        "  numero = int(numero)\n",
        "  if(int(numero) % 2 == 0): # O resto da divisão é 0?\n",
        "    print('par')\n",
        "  else:\n",
        "    print('ímpar')\n",
        "\n",
        "\n",
        "  print('Seu antecessor é: ', numero - 1)\n",
        "  print('Seu antecessor é: ', numero + 1)\n",
        "else:\n",
        "  print('Não é um número')\n"
      ],
      "metadata": {
        "colab": {
          "base_uri": "https://localhost:8080/"
        },
        "id": "k-oPWKpX07WS",
        "outputId": "4ae9affc-8c1f-4092-ca81-9c6605cb70d4"
      },
      "execution_count": 21,
      "outputs": [
        {
          "output_type": "stream",
          "name": "stdout",
          "text": [
            "Digite um número: 10\n",
            "par\n",
            "Seu antecessor é:  9\n",
            "Seu antecessor é:  11\n"
          ]
        }
      ]
    },
    {
      "cell_type": "code",
      "source": [
        "# Faça um programa que perguinte em que turno você estuda.\n",
        "# Peça para digitar M-matutino ou V-vespertino ou N-noturno.\n",
        "# Imprima a mensagem \"Bom dia!\" , \"Boa Tarde\", \"Boa noite\", ou \"Valor inválido\" , conforme o caso;\n",
        "\n",
        "turno = input('Digite o seu turno: M (Matutino) V (Vespertino) N(Noturno) -> ').upper()\n",
        "\n",
        "\n",
        "if(len(turno) == 1):\n",
        "  #Se tiver só um caractere\n",
        "  if(turno.isalpha() and (turno == 'M' or turno == 'V' or turno == 'N')):\n",
        "    if(turno == 'M'):\n",
        "      print('Bom dia!')\n",
        "    elif(turno == 'V'):\n",
        "      print('Boa tarde!')\n",
        "    elif(turno == 'N'): # else\n",
        "      print('Boa noite!')\n",
        "  else:\n",
        "    print('Digite um dos turnos mencionados acima ')\n",
        "else:\n",
        "  print('Digite um valor válido')"
      ],
      "metadata": {
        "colab": {
          "base_uri": "https://localhost:8080/"
        },
        "id": "uLhiE5LF4dBy",
        "outputId": "7994e833-3d7b-4032-8340-b6ecb822dce5"
      },
      "execution_count": 29,
      "outputs": [
        {
          "output_type": "stream",
          "name": "stdout",
          "text": [
            "Digite o seu turno: M (Matutino) V (Vespertino) N(Noturno) -> V\n",
            "Boa tarde!\n"
          ]
        }
      ]
    },
    {
      "cell_type": "code",
      "source": [
        "''' \n",
        "As organizações CSM resolveram dar um aumento de salário aos seus colaboradores e lhe contrataram para \n",
        "desenvolver o programa que calculará os reajustes.  \n",
        "\n",
        "a. Faça um programa que recebe o salário de um colaborador e o reajuste segundo o seguinte critério, baseado no salário atual;\n",
        "b. Salários até R$ 280,00 (incluindo): aumento de 20%;\n",
        "c. Salários entre R$ 280,00 e R$700,00: aumento de 15%;\n",
        "d. Salários entre R$ 700,00 e R$ 1500,00: aumento de 10%;\n",
        "e. Salários de R$ 1500,00 em diante: aumento de 5%\n",
        "Após o aumento ser realizado; informe na tela;\n",
        "\n",
        "a. O salário antes do reajuste;\n",
        "b. O percentual de aumento aplicado;\n",
        "c. O valor do aumento;\n",
        "d. O novo salário, após o aumento. \n",
        "'''\n",
        "\n",
        "salario = float(input('Digite o seu salário '))\n",
        "\n",
        "print('Salário: R$', salario)\n",
        "if(salario <= 280):\n",
        "  novoSalario = salario * 1,20\n",
        "elif(280 > salario < 700):\n",
        "  novoSalario = salario * 1.15\n",
        "elif(700 > salario < 1500):\n",
        "  novoSalario = salario * 1.10\n",
        "else:\n",
        "  novoSalario = salario * 1.05\n",
        "\n",
        "aumento = novoSalario - salario\n",
        "print('Aumento: R$', aumento)\n",
        "print('Novo salário: R$', novoSalario)\n",
        "percentual = (novoSalario / salario -1 ) * 100\n",
        "print('Percentual ', round(percentual, 2), '%')"
      ],
      "metadata": {
        "colab": {
          "base_uri": "https://localhost:8080/"
        },
        "id": "It4ujQ9e9_LE",
        "outputId": "53a40d6c-a64d-4f26-ad21-ef972821d2fe"
      },
      "execution_count": 36,
      "outputs": [
        {
          "output_type": "stream",
          "name": "stdout",
          "text": [
            "Digite o seu salário1200\n",
            "Salário: R$ 1200.0\n",
            "Aumento: R$ 60.0\n",
            "Novo salário: R$ 1260.0\n",
            "Percentual  5.0 %\n"
          ]
        }
      ]
    },
    {
      "cell_type": "code",
      "source": [
        ""
      ],
      "metadata": {
        "id": "C_S85JLhBql6"
      },
      "execution_count": 36,
      "outputs": []
    }
  ]
}