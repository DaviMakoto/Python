{
  "nbformat": 4,
  "nbformat_minor": 0,
  "metadata": {
    "colab": {
      "name": "Exercícios.ipynb",
      "provenance": []
    },
    "kernelspec": {
      "name": "python3",
      "display_name": "Python 3"
    },
    "language_info": {
      "name": "python"
    }
  },
  "cells": [
    {
      "cell_type": "code",
      "execution_count": null,
      "metadata": {
        "id": "s5KWFNLY-RIg"
      },
      "outputs": [],
      "source": [
        "Exercícios \n",
        "\n",
        "1. Escreva\t um\t programa\t para\t ler\t 2\t valores\t (considere\t que\t \t não\t serão\t\n",
        "informados\tvalores\tiguais)\te\tescrever\to\tmaior\tdeles.\n",
        "\n",
        "2. Escreva\t um\t programa\t para\t ler\t o\t ano\t de\t nascimento\t de\t uma\t pessoa\t e\t\n",
        "escrever\t uma\t mensagem\t que\t diga\t se\t ela\t poderá\t ou\t não\t votar\t este\t ano\t\n",
        "(não\té\tnecessário\tconsiderar\to\tmês\tem\tque\tela\tnasceu).\n",
        "\n",
        "3. Escreva\t um\t programa\t que\t verifique\t a\t validade\t de\t uma\t senha\t fornecida\t\n",
        "pelo\t usuário.\t A\t senha\t válida\t é\t o\t número\t 1234.\tDevem\t ser\timpressas\t as\t\n",
        "seguintes\tmensagens:\t\n",
        "ACESSO\tPERMITIDO\tcaso\ta\tsenha\tseja\tválida.\t\n",
        "ACESSO\tNEGADO\tcaso\ta\tsenha\tseja\tinválida.\n",
        "\n",
        "4. As\tmaçãs\t custam\t R$\t 0,30\t cada\t se\t forem\t compradas\tmenos\t do\t que\t uma\t\n",
        "dúzia,\t e\t R$\t 0,25\t se\t forem\t compradas\t pelo\t menos\t doze.\t Escreva\t um\t\n",
        "programa\t que\t leia\t o\t número\t de\t maçãs\t compradas,\t calcule\t e\t escreva\t o\t\n",
        "valor\ttotal\tda\tcompra.\n",
        "\n",
        "5. Escreva\t um\t programa\t para\t ler\t 3\t valores\t inteiros\t (considere\t que\t \t não\t\n",
        "serão\tlidos\tvalores\tiguais)\te\tescrevê-los\tem\tordem\tcrescente.\n",
        "\n",
        "6. Tendo\t como\t entrada\t a\t altura\t e\t o\t sexo\t (codificado\t da\t seguinte\t forma:\t\n",
        "1:feminino\t \t 2:masculino)\t de\t uma\t pessoa,\t construa\t um\t programa\t que\t\n",
        "calcule\te\timprima\tseu\tpeso\tideal,\tutilizando\tas\tseguintes\t\n",
        "Fórmulas:\t\n",
        "- para\thomens:\t(72.7\t*\tAltura)\t– 58\t\n",
        "- para\tmulheres:\t(62.1\t*\tAltura)\t– 44.7\t\n",
        "\n",
        "7. Escreva\tum\tprograma\tpara\tler\to\tnúmero\tde\tlados\tde\tum\tpolígono\tregular\t\n",
        "e\ta\tmedida\tdo\tlado\t(em\tcm).\tCalcular\te\timprimir\to\tseguinte:\t\n",
        "− Se\to\tnúmero\tde\tlados\tfor\tigual\ta\t3\tescrever\tTRIÂNGULO\te\to\tvalor\tda\t\n",
        "área\n",
        "− Se\to\tnúmero\tde\tlados\tfor\tigual\ta\t4\tescrever\tQUADRADO\te\to\tvalor\tda\t\n",
        "sua\tárea.\t\n",
        "− Se\to\tnúmero\tde\tlados\tfor\tigual\ta\t5\tescrever\tPENTÁGONO.\n",
        "\n",
        "8. Acrescente\t as\t seguintes\t mensagens\t à\t solução\t do\t exercício\t anterior\t\n",
        "conforme\to\tcaso.\t\n",
        "− Caso\t o\t número\t de\t lados\t seja\t inferior\t a\t 3\t escrever\t NÃO\t É\t UM\t\n",
        "POLÍGONO.\t\n",
        "− Caso\to\tnúmero\tde\tlados\tseja\tsuperior\ta\t5\tescrever\tPOLÍGONO\tNÃO\t\n",
        "IDENTIFICADO.\n",
        "\n",
        "9. Escreva\tum\tprograma\tpara\tler\t3\tvalores\tinteiros\te\tescrever\to\tmaior\tdeles.\t\n",
        "Considere\tque\to\tusuário\tnão\tinformará\tvalores\tiguais.\n",
        "\n",
        "10. Escreva\t um\t programa que\t leia\t as\t medidas\t dos\t lados\t de\t um\t triângulo\t e\t\n",
        "escreva\tse\tele\té\tEquilátero,\tIsósceles\tou\tEscaleno.\tSendo\tque:\t\n",
        "− Triângulo\tEquilátero:\tpossui\tos\t3\tlados\tiguais.\t\n",
        "− Triângulo\tIsóscele:\tpossui\t2\tlados\tiguais.\t\n",
        "− Triângulo\tEscaleno:\tpossui\t3\tlados\tdiferentes.\n",
        "\n",
        "11. Escreva\t um\t programa\t que\t leia\t o\t valor\t de\t 3\t ângulos\t de\t um\t triângulo\t e\t\n",
        "escreva\t se\t o\t triângulo\t é\t Acutângulo,\t Retângulo\t ou\t Obtusângulo.\t Sendo\t\n",
        "que:\t\n",
        "− Triângulo\tRetângulo:\tpossui\tum\tângulo\treto.\t(igual\ta\t90º)\n",
        "− Triângulo\tObtusângulo:\tpossui\tum\tângulo\tobtuso.\t (maior\tque90º)\t\n",
        "− Triângulo\tAcutângulo:\tpossui\ttrês\tângulos\tagudos.\t(menor\tque\t90º)\n",
        "\n",
        "12. Um posto está vendendo combustíveis com a seguinte tabela de descontos:  \n",
        "\n",
        "Álcool: \n",
        "- Até 20 litros: desconto de 3% por litro\n",
        "- Acima de 20 litros: Desconto de 5% por litro 99.\n",
        "\n",
        "Gasolina: \n",
        "- Até 20 litros: desconto de 4% por litro\n",
        "- Acima de 20 litros, desconto de 6% por litro\n",
        "\n",
        "Escreva um algoritmo que leia o número de litros vendidos, o tipo de combustível (codificado da seguinte forma: A-álcool. G-gasolina), calcule e imprima o valor a ser pago pelo cliente.  \n"
      ]
    },
    {
      "cell_type": "markdown",
      "source": [
        "1\n"
      ],
      "metadata": {
        "id": "QHTj2C4t_U-2"
      }
    },
    {
      "cell_type": "code",
      "source": [
        "#1. Escreva\t um\t programa\t para\t ler 2\tvalores\t(considere\tque não\tserão\t\n",
        "#informados\tvalores\tiguais)\te\tescrever o\tmaior\tdeles.\n",
        "\n",
        "\n",
        "valor1 = int(input('Dê um valor: '))\n",
        "valor2 = int(input('Dê outro valor: '))\n",
        "\n",
        "if(valor1 > valor2):\n",
        "  print('O valor do primeiro maior: ', valor1)\n",
        "else:\n",
        "  print('O valor do segundo é maior: ', valor2)"
      ],
      "metadata": {
        "colab": {
          "base_uri": "https://localhost:8080/"
        },
        "id": "xk64G1eu_Xko",
        "outputId": "ebd7694d-791f-422e-b325-6d5bf76e6b35"
      },
      "execution_count": 11,
      "outputs": [
        {
          "output_type": "stream",
          "name": "stdout",
          "text": [
            "Dê um valor: 30[\n",
            "Dê outro valor: 5\n",
            "O valor do segundo é maior:  30[\n"
          ]
        }
      ]
    },
    {
      "cell_type": "markdown",
      "source": [
        "2"
      ],
      "metadata": {
        "id": "XlKjM5cgAp1e"
      }
    },
    {
      "cell_type": "code",
      "source": [
        "#2. Escreva\t um\t programa\t para\t ler\t o\t ano\t de\t nascimento\t de\t uma\t pessoa\t e\t\n",
        "#escrever\t uma\t mensagem\t que\t diga\t se\t ela\t poderá\t ou\t não\t votar\t este\t ano\t\n",
        "#(não\té\tnecessário\tconsiderar\to\tmês\tem\tque\tela\tnasceu).\n",
        "\n",
        "anoNascimento = input('Digite seu ano de nascimento: ')\n",
        "anoMinimo = '2006'\n",
        "\n",
        "if(anoNascimento <= anoMinimo):\n",
        "  print('Você poderá votar este ano!')\n",
        "else:\n",
        "  print('Você não poderá votar este ano!')"
      ],
      "metadata": {
        "colab": {
          "base_uri": "https://localhost:8080/"
        },
        "id": "Dm03HhU1Aqp0",
        "outputId": "95cd2dbf-b2d2-402f-a669-40bc5c1ad3e7"
      },
      "execution_count": null,
      "outputs": [
        {
          "output_type": "stream",
          "name": "stdout",
          "text": [
            "Digite seu ano de nascimento: 2005\n",
            "Você poderá votar este ano!\n"
          ]
        }
      ]
    },
    {
      "cell_type": "markdown",
      "source": [
        "3"
      ],
      "metadata": {
        "id": "c9aEhDZYESSf"
      }
    },
    {
      "cell_type": "code",
      "source": [
        "#3. Escreva\t um\t programa\t que\t verifique\t a\t validade\t de\t uma\t senha\t fornecida\t\n",
        "#pelo\t usuário.\t A\t senha\t válida\t é\t o\t número\t 1234.\tDevem\t ser\timpressas\t as\t\n",
        "#seguintes\tmensagens:\t\n",
        "#ACESSO\tPERMITIDO\tcaso\ta\tsenha\tseja\tválida.\t\n",
        "#ACESSO\tNEGADO\tcaso\ta\tsenha\tseja\tinválida.\n",
        "\n",
        "\n",
        "senha = input('Digite a senha de quatro dígitos: ')\n",
        "senhaValida = '1234'\n",
        "\n",
        "if(senha.isnumeric()):\n",
        "  senha = int(senha)\n",
        "  senhaValida = int(senhaValida)\n",
        "  if(senha == senhaValida):\n",
        "    print('Acesso permitido!')\n",
        "  else:\n",
        "    print('Acesso negado!')\n",
        "else:\n",
        "  print('Digite um valor numérico.')"
      ],
      "metadata": {
        "colab": {
          "base_uri": "https://localhost:8080/"
        },
        "id": "oshs00NCEOGG",
        "outputId": "4ce30280-9d51-4f43-99a2-0602ad8fb86a"
      },
      "execution_count": 15,
      "outputs": [
        {
          "output_type": "stream",
          "name": "stdout",
          "text": [
            "Digite a senha de quatro dígitos: 1234\n",
            "Acesso permitido!\n"
          ]
        }
      ]
    },
    {
      "cell_type": "markdown",
      "source": [
        "4"
      ],
      "metadata": {
        "id": "xNrCpdzdGuta"
      }
    },
    {
      "cell_type": "code",
      "source": [
        "#4. As\tmaçãs\t custam\t R$\t 0,30\t cada\t se\t forem\t compradas\tmenos\t do\t que\t uma\t\n",
        "#dúzia,\t e\t R$\t 0,25\t se\t forem\t compradas\t pelo\t menos\t doze.\t Escreva\t um\t\n",
        "#programa\t que\t leia\t o\t número\t de\t maçãs\t compradas,\t calcule\t e\t escreva\t o\t\n",
        "#valor\ttotal\tda\tcompra.\n",
        "\n",
        "maçasCompradas = input('Coloque a quantidade de maçãs compradas: ')\n",
        "menosqueDuzia = '11'\n",
        "\n",
        "\n",
        "if(maçasCompradas.isnumeric()):\n",
        "  maçasCompradas = int(maçasCompradas)\n",
        "  menosqueDuzia = int(menosqueDuzia)\n",
        "  if(maçasCompradas <= menosqueDuzia):\n",
        "    print('Seu valor total é :', maçasCompradas * 0.30, 'R$')\n",
        "  elif(maçasCompradas > menosqueDuzia):\n",
        "    print('Seu valor total da compra é de:', maçasCompradas * 0.25, 'R$')\n",
        "else:\n",
        "  print('Digite um valor válido.')\n",
        "    "
      ],
      "metadata": {
        "colab": {
          "base_uri": "https://localhost:8080/"
        },
        "id": "xqFPw5W8Eq0N",
        "outputId": "fed2f7d1-ddda-4089-9498-c40b1cb3430a"
      },
      "execution_count": null,
      "outputs": [
        {
          "output_type": "stream",
          "name": "stdout",
          "text": [
            "Coloque a quantidade de maçãs compradas: 3\n",
            "Seu valor total é : 0.8999999999999999 R$\n"
          ]
        }
      ]
    },
    {
      "cell_type": "markdown",
      "source": [
        "5"
      ],
      "metadata": {
        "id": "AaOxCkzKQRlI"
      }
    },
    {
      "cell_type": "code",
      "source": [
        "#5. Escreva\t um\t programa\t para\t ler\t3\tvalores\tinteiros\t(considere que não\t\n",
        "#serão\tlidos\tvalores\tiguais)\te\tescrevê-los\tem\tordem\tcrescente.\n",
        "\n",
        "val1 = input('Digite o primeiro valor: ')\n",
        "val2 = input('Digite o segundo valor: ')\n",
        "val3 = input('Digite o terceiro valor: ')\n",
        "\n",
        "if(val1 > val2 > val3):\n",
        "  print('Maior:', val1, 'Médio:', val2, 'Menor:', val3)\n",
        "elif(val2 > val3 > val1):\n",
        "  print('Maior:', val2, 'Médio:', val3, 'Menor:', val1)\n",
        "elif(val3 > val1 > val2):\n",
        "  print('Maior:', val3, 'Médio:', val1, 'Menor:', val2)\n",
        "elif(val1 > val3 > val2):\n",
        "  print('Maior:', val1, 'Médio:', val3, 'Menor:', val2)\n",
        "elif(val2 > val1 > val3):\n",
        "  print('Maior:', val2, 'Médio:', val1, 'Menor:', val3)\n",
        "elif(val3 > val2 > val1):\n",
        "  print('Maior:', val3, 'Médio:', val2, 'Menor:', val1)\n",
        "else:\n",
        "  print('Digite números diferentes.')"
      ],
      "metadata": {
        "colab": {
          "base_uri": "https://localhost:8080/"
        },
        "id": "q0XC-zzSIDYY",
        "outputId": "20a7d8ca-c1b1-46aa-b7ae-da1fe28ddb14"
      },
      "execution_count": null,
      "outputs": [
        {
          "output_type": "stream",
          "name": "stdout",
          "text": [
            "Digite o primeiro valor: 4\n",
            "Digite o segundo valor: 3\n",
            "Digite o terceiro valor: 4\n",
            "Digite números diferentes.\n"
          ]
        }
      ]
    },
    {
      "cell_type": "markdown",
      "source": [
        "6"
      ],
      "metadata": {
        "id": "hBiz1EcPUsk9"
      }
    },
    {
      "cell_type": "code",
      "source": [
        "#6. Tendo\t como\t entrada\t a\t altura\t e\t o\t sexo\t (codificado\t da\t seguinte\t forma:\t\n",
        "#1:feminino\t \t 2:masculino)\t de\t uma\t pessoa,\t construa\t um\t programa\t que\t\n",
        "#calcule\te\timprima\tseu\tpeso\tideal,\tutilizando\tas\tseguintes\t\n",
        "#Fórmulas:\t\n",
        "#- para\thomens:\t(72.7\t*\tAltura)\t– 58\t\n",
        "#- para\tmulheres:\t(62.1\t*\tAltura)\t– 44.7\t\n",
        "\n",
        "\n",
        "altura = float(input('Coloque sua altura: '))\n",
        "sexo = input('Coloque seu sexo em 1-(Masculino) ou 2-(Feminino): ')\n",
        "\n",
        "\n",
        "if(sexo == '1'):\n",
        "  print('Seu peso ideal é:', (float(altura) * float(72.7)) - 58, 'kg')\n",
        "elif(sexo =='2'):\n",
        "  print('Seu peso ideal é:', (float(altura) * float(62.1)) - 44.7, 'kg')\n",
        "else:\n",
        "  print('Digite sua altura corretamente ou sexo corretamente.')"
      ],
      "metadata": {
        "colab": {
          "base_uri": "https://localhost:8080/"
        },
        "id": "vV-gRBT8SaTO",
        "outputId": "3d4534a9-8e43-435e-c3f4-1fd5ffe9cfba"
      },
      "execution_count": 21,
      "outputs": [
        {
          "output_type": "stream",
          "name": "stdout",
          "text": [
            "Coloque sua altura: 1.80\n",
            "Coloque seu sexo em 1-(Masculino) ou 2-(Feminino): 2\n",
            "Seu peso ideal é: 67.08\n"
          ]
        }
      ]
    },
    {
      "cell_type": "markdown",
      "source": [
        "7"
      ],
      "metadata": {
        "id": "-Bn3GpILazhL"
      }
    },
    {
      "cell_type": "code",
      "source": [
        "# 7. Escreva\tum\tprograma\tpara\tler\to\tnúmero\tde\tlados\tde\tum\tpolígono\tregular\t\n",
        "# e\ta\tmedida\tdo\tlado\t(em\tcm).\tCalcular\te\timprimir\to\tseguinte:\t\n",
        "# − Se\to\tnúmero\tde\tlados\tfor\tigual\ta\t3\tescrever\tTRIÂNGULO\te\to\tvalor\tda\t\n",
        "# área\n",
        "# − Se\to\tnúmero\tde\tlados\tfor\tigual\ta\t4\tescrever\tQUADRADO\te\to\tvalor\tda\t\n",
        "# sua\tárea.\t\n",
        "# − Se\to\tnúmero\tde\tlados\tfor\tigual\ta\t5\tescrever\tPENTÁGONO.\n",
        "\n",
        "lados = input('Insira um dos números ao lado -> [3] [4] [5]: ')\n",
        "medidaLados = input('Insira a medida dos lados em cm(centímetros): ')\n",
        "\n",
        "\n",
        "\n",
        "if(lados.isnumeric()):\n",
        "  if(lados == '3'):\n",
        "    print('Sua escolha é um triângulo.')\n",
        "    print('A área do triângulo é:', (int(medidaLados) ** int(2) / 4, '√3 m²'))\n",
        "  elif(lados == '4'):\n",
        "    print('Sua escolha é um quadrado.')\n",
        "    print('A área do quadrado é:', int(medidaLados) * int(medidaLados))\n",
        "  elif(lados == '5'):\n",
        "    print('Sua escolha é um pentágono.')\n",
        "    "
      ],
      "metadata": {
        "colab": {
          "base_uri": "https://localhost:8080/"
        },
        "id": "MYGm_kwQWwN4",
        "outputId": "9ee985c1-07b2-4db0-d7bb-0cf82dfbf78f"
      },
      "execution_count": 8,
      "outputs": [
        {
          "output_type": "stream",
          "name": "stdout",
          "text": [
            "Insira um dos números ao lado -> [3] [4] [5]: 3\n",
            "Insira a medida dos lados em cm(centímetros): 12\n",
            "Sua escolha é um triângulo.\n",
            "A área do triângulo é: (36.0, '√3 m²')\n"
          ]
        }
      ]
    },
    {
      "cell_type": "markdown",
      "source": [
        "8"
      ],
      "metadata": {
        "id": "wvkua1YIFYDi"
      }
    },
    {
      "cell_type": "code",
      "source": [
        "#8. Acrescente\t as\t seguintes\t mensagens\t à\t solução\t do\t exercício\t anterior\t\n",
        "#conforme\to\tcaso.\t\n",
        "#− Caso\t o\t número\t de\t lados\t seja\t inferior\t a\t 3\t escrever\t NÃO\t É\t UM\t\n",
        "#POLÍGONO.\t\n",
        "#− Caso\to\tnúmero\tde\tlados\tseja\tsuperior\ta\t5\tescrever\tPOLÍGONO\tNÃO\t\n",
        "#IDENTIFICADO.\n",
        "\n",
        "lados = input('Insira um dos números ao lado -> ...[2] [3] [4] [5] [6]... : ')\n",
        "medidaLados = input('Insira a medida dos lados em cm(centímetros): ')\n",
        "\n",
        "\n",
        "\n",
        "if(lados.isnumeric()):\n",
        "  if(lados == '3'):\n",
        "    print('Sua escolha é um triângulo.')\n",
        "    print('A área do triângulo é:', (int(medidaLados) ** int(2) / 4, '√3 m²'))\n",
        "  elif(lados == '4'):\n",
        "    print('Sua escolha é um quadrado.')\n",
        "    print('A área do quadrado é:', int(medidaLados) * int(medidaLados))\n",
        "  elif(lados == '5'):\n",
        "    print('Sua escolha é um pentágono.')\n",
        "\n",
        "\n",
        "  elif(lados < '3'):\n",
        "    print('Não é um polígono.')\n",
        "  elif(lados > '5'):\n",
        "    print('Polígono não identificado.')"
      ],
      "metadata": {
        "id": "kQL4WwXFggWv",
        "colab": {
          "base_uri": "https://localhost:8080/"
        },
        "outputId": "c7b56c6d-8e5b-45e6-891b-d1bf2fdf0b43"
      },
      "execution_count": 24,
      "outputs": [
        {
          "output_type": "stream",
          "name": "stdout",
          "text": [
            "Insira um dos números ao lado -> ...[2] [3] [4] [5] [6]... : 7\n",
            "Insira a medida dos lados em cm(centímetros): 3\n",
            "Polígono não identificado.\n"
          ]
        }
      ]
    },
    {
      "cell_type": "markdown",
      "source": [
        "9"
      ],
      "metadata": {
        "id": "0tV7jmcrGoKf"
      }
    },
    {
      "cell_type": "code",
      "source": [
        "#9. Escreva\tum\tprograma\tpara\tler\t3\tvalores\tinteiros\te\tescrever\to\tmaior\tdeles.\t\n",
        "#Considere\tque\to\tusuário\tnão\tinformará\tvalores\tiguais.\n",
        "\n",
        "valor1 = input('Digite o primeiro valor: ')\n",
        "valor2 = input('Digite o segundo valor: ')\n",
        "valor3 = input('Digite o terceiro valor: ')\n",
        "\n",
        "if(valor1.isnumeric() and valor2.isnumeric() and valor3.isnumeric()):\n",
        "  if(valor1 > valor2 and valor1 > valor3):\n",
        "    print('O primeiro valor é maior.')\n",
        "  elif(valor2 > valor1 and valor2 > valor3):\n",
        "    print('O segundo valor é maior.')\n",
        "  elif(valor3 > valor1 and valor3 > valor2):\n",
        "    print('O terceiro valor é maior.')\n",
        "  else:\n",
        "    print('Não digite valores iguais.')\n",
        "else:\n",
        "  print('Insira um valor numérico.')"
      ],
      "metadata": {
        "colab": {
          "base_uri": "https://localhost:8080/"
        },
        "id": "HsqjQMbAGMhR",
        "outputId": "1a70a874-35ac-45ba-92bd-bcedbf2bf9fa"
      },
      "execution_count": 30,
      "outputs": [
        {
          "output_type": "stream",
          "name": "stdout",
          "text": [
            "Digite o primeiro valor: 333\n",
            "Digite o segundo valor: 222\n",
            "Digite o terceiro valor: 333\n",
            "Não digite valores iguais.\n"
          ]
        }
      ]
    },
    {
      "cell_type": "markdown",
      "source": [
        "10"
      ],
      "metadata": {
        "id": "fmEsAnNzJQwh"
      }
    },
    {
      "cell_type": "code",
      "source": [
        "#10. Escreva\t um\t programa que\t leia\t as\t medidas\t dos\t lados\t de\t um\t triângulo\t e\t\n",
        "#escreva\tse\tele\té\tEquilátero,\tIsósceles\tou\tEscaleno.\tSendo\tque:\t\n",
        "#− Triângulo\tEquilátero:\tpossui\tos\t3\tlados\tiguais.\t\n",
        "#− Triângulo\tIsóscele:\tpossui\t2\tlados\tiguais.\t\n",
        "#− Triângulo\tEscaleno:\tpossui\t3\tlados\tdiferentes.\n",
        "\n",
        "lado1 = input('Digite o primeiro lado do triângulo: ')\n",
        "lado2 = input('Digite o segundo lado do triângulo: ')\n",
        "lado3 = input('Digite o teceiro lado do triângulo: ')\n",
        "\n",
        "if(lado1.isnumeric() and lado2.isnumeric() and lado3.isnumeric()):\n",
        "  if(lado1 == lado2 == lado3):\n",
        "    print('Seu triângulo é equilátero.')\n",
        "  elif(lado1 == lado2 or lado2 == lado3 or lado1 == lado3):\n",
        "    print('Seu triângulo é isóscele.')\n",
        "  else:\n",
        "    print('Seu triângulo é escaleno.')\n",
        "else:\n",
        "  print('Digite valores numéricos.')"
      ],
      "metadata": {
        "colab": {
          "base_uri": "https://localhost:8080/"
        },
        "id": "_a8Am_zXHluV",
        "outputId": "3252aad8-ea60-4741-e12d-4e6b05fa6504"
      },
      "execution_count": 35,
      "outputs": [
        {
          "output_type": "stream",
          "name": "stdout",
          "text": [
            "Digite o primeiro lado do triângulo: 14\n",
            "Digite o segundo lado do triângulo: 14\n",
            "Digite o teceiro lado do triângulo: 14\n",
            "Seu triângulo é equilátero.\n"
          ]
        }
      ]
    },
    {
      "cell_type": "markdown",
      "source": [
        "11"
      ],
      "metadata": {
        "id": "t1FAYNUhMFmj"
      }
    },
    {
      "cell_type": "code",
      "source": [
        "#11. Escreva\t um\t programa\t que\t leia\t o\t valor\t de\t 3\t ângulos\t de\t um\t triângulo\t e\t\n",
        "#escreva\t se\t o\t triângulo\t é\t Acutângulo,\t Retângulo\t ou\t Obtusângulo.\t Sendo\t\n",
        "#que:\t\n",
        "#− Triângulo\tRetângulo:\tpossui\tum\tângulo\treto.\t(igual\ta\t90º)\n",
        "#− Triângulo\tObtusângulo:\tpossui\tum\tângulo\tobtuso.\t (maior\tque 90º)\t\n",
        "#− Triângulo\tAcutângulo:\tpossui\ttrês\tângulos\tagudos.\t(menor\tque\t90º)\n",
        "\n",
        "angulo1 = input('Digite o primeiro ângulo: ')\n",
        "angulo2 = input('Digite o segundo ângulo: ')\n",
        "angulo3 = input('Digite o terceiro ângulo: ')\n",
        "\n",
        "if(angulo1.isnumeric() and angulo2.isnumeric() and angulo3.isnumeric()):\n",
        "  if(angulo1 == '90' or angulo2 == '90' or angulo3 == '90'):\n",
        "    print('Seu triângulo é retângulo.')\n",
        "  elif(angulo1 > '90' or angulo2 > '90' or angulo3 > '90'):\n",
        "    print('Seu triângulo é obstusângulo.')\n",
        "  elif(angulo1 < '90' or angulo2 < '90' or angulo3 < '90'):\n",
        "    print('Seu triângulo é agudo.')\n",
        "else:\n",
        "  print('Digite um ângulo válido.')\n",
        "  "
      ],
      "metadata": {
        "colab": {
          "base_uri": "https://localhost:8080/"
        },
        "id": "9GvCZgyrLztE",
        "outputId": "e1d6f7c7-3768-4af3-ef1f-844322dd5198"
      },
      "execution_count": 40,
      "outputs": [
        {
          "output_type": "stream",
          "name": "stdout",
          "text": [
            "Digite o primeiro ângulo: não\n",
            "Digite o segundo ângulo: não\n",
            "Digite o terceiro ângulo: não\n",
            "DIgite um ângulo válido.\n"
          ]
        }
      ]
    },
    {
      "cell_type": "markdown",
      "source": [
        "12"
      ],
      "metadata": {
        "id": "TjxLhaRGQoJl"
      }
    },
    {
      "cell_type": "code",
      "source": [
        "#12. Um posto está vendendo combustíveis com a seguinte tabela de descontos:  \n",
        "\n",
        "#Álcool: \n",
        "#- Até 20 litros: desconto de 3% por litro\n",
        "#- Acima de 20 litros: Desconto de 5% por litro 99.\n",
        "\n",
        "#Gasolina: \n",
        "#- Até 20 litros: desconto de 4% por litro\n",
        "#- Acima de 20 litros, desconto de 6% por litro\n",
        "\n",
        "#Escreva um algoritmo que leia o número de litros vendidos, o tipo de combustível\n",
        "#(codificado da seguinte forma: A-álcool. G-gasolina), calcule e imprima o valor a ser pago pelo cliente.\n",
        "\n",
        "escolhadeGas = input('Digite a-[Alcool]  g-[Gasolina] ')\n",
        "Litro = input('Digite a quantidade em litros que pretende comprar: ')\n",
        "valorLitro = 10\n",
        "if(escolhadeGas.isalpha()):\n",
        "  if(escolhadeGas == 'a'):\n",
        "    if(Litro <= '20'):\n",
        "      valorLitro = int(Litro)\n",
        "      print('O valor a ser pago é de:', (int(Litro) * float(0.03)) + int(Litro) + int(valorLitro), 'R$')\n",
        "  elif(Litro > '20'):\n",
        "    print('O valor a ser pago é de:', (int(Litro) * float(0.03)) + int(Litro) + int(valorLitro), 'R$')\n",
        "  if(escolhadeGas == 'b'):\n",
        "    if(Litro <= '20'):\n",
        "      valorLitro = int(Litro)\n",
        "      print('O valor a ser pago é de:', (int(Litro) * float(0.04)) + int(Litro) + int(valorLitro), 'R$')\n",
        "    elif(Litro > '20'):\n",
        "      print('O valor a ser pago é de:', (int(Litro) * float(0.06)) + int(Litro) + int(valorLitro), 'R$')\n",
        "    else:\n",
        "      print('Digite uma quantidade válida.')\n",
        "else:\n",
        "  print('Coloque um valor válido.')"
      ],
      "metadata": {
        "colab": {
          "base_uri": "https://localhost:8080/"
        },
        "id": "P8ry3jtWPQIb",
        "outputId": "aeb77b5e-823a-427e-a229-3972f4cf9487"
      },
      "execution_count": 61,
      "outputs": [
        {
          "output_type": "stream",
          "name": "stdout",
          "text": [
            "Digite a-[Alcool]  g-[Gasolina] a\n",
            "Digite a quantidade em litros que pretende comprar: 20\n",
            "O valor a ser pago é de: 40.6 R$\n"
          ]
        }
      ]
    },
    {
      "cell_type": "code",
      "source": [
        ""
      ],
      "metadata": {
        "id": "W_Z3hPx4TLAE"
      },
      "execution_count": null,
      "outputs": []
    }
  ]
}